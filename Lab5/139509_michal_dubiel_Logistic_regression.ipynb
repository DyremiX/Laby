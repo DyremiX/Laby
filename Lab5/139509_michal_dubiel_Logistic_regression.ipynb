{
 "cells": [
  {
   "cell_type": "markdown",
   "metadata": {},
   "source": [
    "## Przygotowanie\n",
    "\n",
    "Przed rozpoczęciem pracy z notatnikiem proszę zmienić jego nazwę dodając na początku numer albumu, imię i nazwisko.\n",
    "{nr_albumu}\\_{imię}\\_{nazwisko}\\_{nazwa}\n",
    "\n",
    "Po wykonaniu wszystkich zadań proszę przesłać wypełniony notatnik przez platformę ELF za pomocą formularza \"Prześlij projekt\" w odpowiedniej sekcji. "
   ]
  },
  {
   "attachments": {
    "sigmoid.png": {
     "image/png": "[encoded data removed]"
    }
   },
   "cell_type": "markdown",
   "metadata": {},
   "source": [
    "## Regresja logistyczna\n",
    "\n",
    "Perceptron bazujący na modelu sztucznego neuronu jest dobrym algorytmem, aby wyrobić sobie pewną intuicję, jednak nie jest on powszechnie stosowany do rozwiązywania problemów klasyfikacji. Głównym problemem jest wykorzystywana w nim funkcja aktywacji oraz, w konsekwencji, sposób uczenia. Funkcja skokowa Heaviside'a jest nieróżniczkowalna w punkcie $x=0$, a jej pochodna wynosi $0$ w każdym innym punkcie. Powoduje to, że metody gradientowe (w tym metoda gradientu prostego) nie mogą być stosowane do optymalizacji wag. Wiele algorytmów, w tym implementowana regresja liniowa, wykorzystuje metody gradientowe do optymalizacji. Aby to było możliwe w przypadku perceptronu, należy zmienić funkcję aktywacji na taką, która będzie różniczkowalna w każdym punkcie.\n",
    "\n",
    "### Funkcja sigmoidalna\n",
    "\n",
    "Funkcją, która spełnia powyższe wymagania jest funkcja sigmoidalna, zwana również funkcją logistyczną. Dana jest wzorem:\n",
    "\n",
    "$$f(x) = \\frac{1}{1+e^{-x}}$$\n",
    "\n",
    "Poniższy obraz przedstawia wykres funkcji sigmoidalnej.\n",
    "\n",
    "![sigmoid.png](attachment:sigmoid.png)\n",
    "\n",
    "Tak jak w przypadku funkcji skokowej Heaviside'a, funkcja mapuje dowolną wartość rzeczywistą na wartości z przedziału $(0,1)$. Wartość funkcji może być rozumiana jako prawdopodobieństwo wyniku pozytywnego. Przykładowo, jeśli $f(x) = 0.9$, to prawdopodobieństwo $1$ jest równe $90\\%$. Czyli jeśli mamy problem klasyfikacji binarnej, a $1$ oznacza np. obecność wirusa grypy w organiźmie, to możemy powiedzieć, że na $90\\%$ jesteśmy chorzy na grypę. Warto również zauważyć, że funkcja logistyczna zmierza do $1$ dla wartości dodatnich, a dla wartości ujemnych zmierza do $0$. Zmiana predykcji jest w punkcie $0$, gdzie wartość funkcji wynosi $0.5$.\n",
    "\n",
    "Zaletą funkcji sigmoidalnej jest łatwa do obliczenia pochodna:\n",
    "\n",
    "$$f(x)' = f(x)(1-f(x))$$\n",
    "\n",
    "Algorytm, który wykorzystuje tę funkcję aktywacji nazywany jest **regresją logistyczną**. Nazwa może być myląca i może sugerować, że służy on do rozwiązywania problemów regresji, ale w rzeczywistości wykorzystywany jest do problemów klasyfikacji.\n",
    "\n",
    "Finalnie, nasza hipoteza będzie wyglądać następująco.\n",
    "\n",
    "$$h_w(x) = f(\\sum_{i=0}^{n}{w_ix_i})$$\n",
    "\n",
    "$$s = \\sum_{i=0}^{n}{w_ix_i}$$\n",
    "\n",
    "$$f(s) = \\frac{1}{1+e^{-s}}$$\n",
    "\n",
    "### Funkcja błędu\n",
    "\n",
    "Poznaliśmy już jedną funkcję błędu, która wykorzystywana była do obliczenia błędu regresji liniowej (i wielomianowej). W przypadku regresji logistycznej nie możemy z niej skorzystać, ponieważ regresja logistyczna spowoduje, że taka funkcja będzie miała wiele lokalnych minimum, a co za tym idzie, znalezienie optymalnego zestawu wag będzie bardzo trudne. W związku z tym, konieczne jest znalezienie innej funkcji błędu. Powszechna funkcja błędu, która jest wykorzystywana w algorytmie regresji logistycznej ma następującą formę.\n",
    "\n",
    "$$\n",
    "Cost(h_w(x), y) =\n",
    "\\begin{cases}\n",
    "-log(h_w(x))        &   \\mathrm{if} \\ y=1,\\\\\n",
    "-log(1 - h_w(x))    &   \\mathrm{if} \\ y=0\n",
    "\\end{cases}\n",
    "$$\n",
    "\n",
    "Gdzie $y$ jest prawdziwą wartością.\n",
    "\n",
    "<table>\n",
    "    <tr>\n",
    "        <td> <img src=\"attachment:cost1.png\" alt=\"Drawing\" style=\"\"/> </td>\n",
    "        <td> <img src=\"attachment:cost0.png\" alt=\"Drawing\" style=\"\"/> </td>\n",
    "    </tr>\n",
    "</table>\n",
    "\n",
    "Czyli jeśli $y=0$, to funkcja kosztu będzie mieć wartość $0$, tylko jeśli hipoteza będzie mieć wartość $0$. Jeśli $h_w(x)$ zmierza do $1$, to funkcja kosztu zmierza do nieskończoności. \n",
    "\n",
    "Analogicznie, jeśli $y=1$, to funkcja kosztu będzie równa $0$ tylko, gdy hipoteza będzie równa $1$. Jeśli $h_w(x)$ będzie zmierzać do $0$, to wartość funkcji kosztu będzie zmierzać do nieskończoności.\n",
    "\n",
    "Zapis powyższej funkcji błędu może zostać uproszczony do jednego równania:\n",
    "\n",
    "$$Cost(h_w(x), y) = -y\\:log(h_w(x)) - (1 - y)\\:log(1 - h_w(x))$$\n",
    "\n",
    "Dlaczego można tak zrobić? Zauważmy, że jeśli $y=0$, to pierwsza część równania się zeruje, zostaje jedynie druga. Natomiast jeśli $y=1$, to zeruje się druga część równania, zostawiając jedynie pierwszą.\n",
    "\n",
    "### Trenowanie modelu\n",
    "\n",
    "Wzór na funkcję błędu dla regresji logistycznej można zapisać jako:\n",
    "\n",
    "$$J(w) = \\frac{1}{m} \\sum_{i=1}^{m}Cost(h_w(x^{(i)}),y^{(i)}) = - \\frac{1}{m} [\\sum_{i=1}^{m} y^{(i)} log(h_w(x^{(i)})) + (1 - y^{(i)}) log(1 - h_w(x^{(i)}))]$$\n",
    "\n",
    "Dobór wag przeprowadzony zostanie z wykorzystaniem algorytmu gradientu prostego. Tak jak w przypadku algorytmu regresji liniowej, w każdej epoce obliczone zostaną nowe wagi, które powinny skutkować zmniejszeniem błędu. W algorytmie perceptronu wagi akutalizowane były po każdej próbce uczącej, natomiast tutaj po jednym przejściu zestawu uczącego. Istnieją różne warianty ilości próbek, po których wagi są aktualizowane, jednak dla uproszczenia wybieramy cały zbiór.\n",
    "\n",
    "Dobra wiadomość jest taka, że proces aktualizacji wag wygląda praktycznie identycznie, jak miało to miejsce w przypadku algorytmu regresji liniowej. Pochodna funkcji błędu dla $j$-tej wagi ma postać: \n",
    "\n",
    "$$\\frac{\\partial J(w)}{\\partial w_j} = \\frac{1}{m} \\sum^{m}_{i=1} (h_w(x^{(i)}) - y^{(i)})x_{j}^{(i)}$$\n",
    "\n",
    "Zatem wagi akutalizujemy tak, jak robiliśmy to uprzednio:\n",
    "\n",
    "$$w_j = w_j - \\alpha \\frac{\\partial J(w)}{\\partial w_j} = w_j - \\frac{\\alpha}{m} \\sum^{m}_{i=1} (h_w(x^{(i)}) - y^{(i)})x_{j}^{(i)}$$\n",
    "\n",
    "Proces aktualizacji wag wynika bezpośrednio z obliczenia pochodnej funkcji błędu względem wag. W tym notatniku nie będziemy przechodzić przez cały ten proces. Dla osób, które chcą poznać matematyczne detale, przekształcenia opisane są np. [tutaj](https://towardsdatascience.com/logistic-regression-from-scratch-69db4f587e17).\n",
    "\n",
    "_Powyższy zapis jest w formie iteracyjnej, a w notaniku z regresją liniową był w formie macierzowej. Te dwa zapisy są równoznaczne i warto znać i rozumieć obie formy._\n",
    "\n",
    "### Regresja logistyczna a perceptron\n",
    "\n",
    "Powyższy algorytm w formie z sigmoidalną funkcją aktywacji bardzo często wykorzystywany jest jako podstawowy element wielowarstwowych sieci neuronowych. Jego dobre zrozumienie znacznie ułatwi zrozumienie sposobu działania sieci neuronowych. Porównując ze sobą działania algorytmu regresji logistycznej, a wcześniej implementowanego perceptronu, na pojedynczych neuronach nie widać róznic. Obie implementacje służą do rozwiązywania problemów klasyfikacji w zbiorach liniowo separowalnych. Ich celem jest wyznaczenie prostej separującej próbki pochodzące z różnych klas. Różnica pojawia się w momencie, gdy chcemy stworzyć strukturę złożoną z wielu neuronów. Wykorzystanie w tym celu perceptronu nie jest możliwe, ponieważ sieci neuronowe trenowane są najcześciej z wykorzystaniem algorytmu opartego o obliczenie gradientu funkcji błędu.\n",
    "\n",
    "Struktury złożone z wielu neuronów mogą rozwiązywać problemy nieliniowo separowalne. Daje to duże możliwości i tłumaczy duże zainteresowanie sieciami neuronowymi. Innym sposobem na rozwiązanie problemu nieliniowo separowalnego może być rozwinięcie hipotezy o wielomianową formę, tak jak robiliśmy to w przypadku regresji wielomianowej."
   ]
  },
  {
   "cell_type": "markdown",
   "metadata": {},
   "source": [
    "### Zadanie 1\n",
    "\n",
    "Zaimplementuj opisany algorytm regresji logistycznej, który będzie skutecznie klasyfikował próbki z liniowo separowalnego zestawu danych. "
   ]
  },
  {
   "cell_type": "code",
   "execution_count": null,
   "metadata": {},
   "outputs": [],
   "source": [
    "# YOUR CODE HERE"
   ]
  },
  {
   "cell_type": "markdown",
   "metadata": {},
   "source": [
    "### Zadanie 2\n",
    "\n",
    "Wczytaj zbiór danych znajdujący się w pliku Ankieta.csv, stwórz wykres próbek. Następnie stwórz 3 wykresy na których przedstawisz jak zmieniała się granica decyzyjna zaimplementowanego algorytmu regresji logistycznej na przestrzeni epok. Porównaj wynik z algorytmem perceptronu (zarówno czas działania jak i jakość wyznaczonej granicy decyzyjnej)\n",
    "\n",
    "**Uwaga:** Przed podaniem danych na wejście klasyfikatora należy je znormalizować. Zbyt duże wartości powodują, że logarytmy liczą się niepoprawnie (log(0) daje NaN). Dla zainteresowanych wyjaśnienie dostępne jest [tutaj](https://stackoverflow.com/questions/35419882/cost-function-in-logistic-regression-gives-nan-as-a-result)"
   ]
  },
  {
   "cell_type": "code",
   "execution_count": null,
   "metadata": {},
   "outputs": [],
   "source": [
    "# YOUR CODE HERE\n",
    "import random\n",
    "from typing import Tuple, List\n",
    "\n",
    "def initialize_coefficients(n: int = 2, alpha = None) -> Tuple[float, np.ndarray]:\n",
    "    #YOUR CODE HERE\n",
    "    return (random.random() if alpha == None else alpha,np.array([random.random() for x in range(n + 1)]))\n",
    "\n",
    "def calculate_regression_function(X: np.ndarray, betas: np.ndarray) -> np.ndarray:\n",
    "    #YOUR CODE HERE\n",
    "    result = []\n",
    "    for x in X:\n",
    "        suma = betas[0]\n",
    "        for i in range(len(x)):\n",
    "            suma += x[i] * betas[1:][i]\n",
    "        result.append(suma)\n",
    "    return np.array(result)\n",
    "    # return np.array([betas[0] + np.sum([a * beta for a,beta in zip(x,betas[1:])]) for x in X])\n",
    "\n",
    "def calculate_error(X: np.ndarray, y: np.ndarray, betas: np.ndarray) -> float:\n",
    "    #YOUR CODE HERE\n",
    "    results = calculate_regression_function(X,betas)\n",
    "    suma = 0\n",
    "    for i in range(len(results)):\n",
    "        suma += np.power((results[i] - y[i]),2)\n",
    "    return suma/(len(y)*2)\n",
    "    # return np.sum((calculate_regression_function(X,betas) - y)**2)/len(y)\n",
    "\n",
    "def calculate_gradient(X: np.ndarray, y: np.ndarray, betas: np.ndarray) -> np.ndarray:\n",
    "    #YOUR CODE HERE\n",
    "    results = calculate_regression_function(X,betas)\n",
    "    gradient = []\n",
    "    ### Obliczenie pierwszej bety\n",
    "    suma = 0\n",
    "    for i in range(len(results)):\n",
    "        suma += (results[i] - y[i])\n",
    "    gradient.append(suma/len(y))\n",
    "    ### Obliczenie reszty bety\n",
    "    for j in range(1,len(betas)):\n",
    "        sum = 0\n",
    "        for i in range(len(results)):\n",
    "            sum += (results[i] - y[i])*X[i][j-1]\n",
    "        gradient.append(sum/len(y))\n",
    "    return np.array(gradient)\n",
    "    # return np.append(np.array(np.sum(calculate_regression_function(X,betas) - y)/len(y)), \n",
    "    #                  np.array([np.sum([np.array(calculate_regression_function(X,betas) - y)*x[i] for x in X])/len(y) for i in range(len(betas[1:]))]))\n",
    "\n",
    "def update_regression_coefficients(X: np.ndarray, y: np.ndarray, betas: np.ndarray, alpha: float) -> np.ndarray:\n",
    "    #YOUR CODE HERE\n",
    "    result = calculate_gradient(X,y,betas)\n",
    "    new_betas = []\n",
    "    for i in range(len(betas)):\n",
    "        new_betas.append(betas[i] - result[i]*alpha)\n",
    "    return np.array(new_betas)\n",
    "    # return np.array(betas-calculate_gradient(X,y,betas)*alpha)"
   ]
  },
  {
   "cell_type": "markdown",
   "metadata": {},
   "source": [
    "\\# YOUR ANSWER HERE"
   ]
  },
  {
   "cell_type": "markdown",
   "metadata": {},
   "source": [
    "### Zadanie 3\n",
    "\n",
    "Wykorzystaj stworzony algorym w celu znalezienia granicy decyzyjnej będącej płaszczyzną w trójwymiarowej przestrzeni. Zbiór danych znajduje się w pliku o nazwie 3D_perceptron.csv. Stwórz wykresy analogicznie jak w zadaniu 2. Porównaj wynik z algorytmem perceptronu."
   ]
  },
  {
   "cell_type": "code",
   "execution_count": null,
   "metadata": {},
   "outputs": [],
   "source": [
    "# YOUR CODE HERE"
   ]
  },
  {
   "cell_type": "markdown",
   "metadata": {},
   "source": [
    "### Zadanie 4"
   ]
  },
  {
   "cell_type": "markdown",
   "metadata": {},
   "source": [
    "Zaimplementu test jednostkowy sprawdzający czy błąd spada wraz z epokami."
   ]
  },
  {
   "cell_type": "code",
   "execution_count": null,
   "metadata": {},
   "outputs": [],
   "source": [
    "#YOUR CODE HERE"
   ]
  },
  {
   "cell_type": "markdown",
   "metadata": {},
   "source": [
    "### Zadanie 5"
   ]
  },
  {
   "cell_type": "markdown",
   "metadata": {},
   "source": [
    "Zaproponuj i oblicz miarę skuteczności algorytmu regresji logistycznej. Wynik należy podać w % (ile próbek poprawnie zaklasyfikował algorytm) "
   ]
  },
  {
   "cell_type": "code",
   "execution_count": null,
   "metadata": {},
   "outputs": [],
   "source": [
    "# YOUR CODE HERE"
   ]
  },
  {
   "cell_type": "markdown",
   "metadata": {},
   "source": [
    "### Zadanie 6"
   ]
  },
  {
   "cell_type": "markdown",
   "metadata": {},
   "source": [
    "Jak współczynnik uczenia alpha wypływa na wynik oraz ilość epok jakie należy zastosować? Porównaj minimum 5 różnych wartości współczynnika alpha oraz sformułuj wnioski."
   ]
  },
  {
   "cell_type": "code",
   "execution_count": null,
   "metadata": {},
   "outputs": [],
   "source": [
    "# YOUR CODE HERE"
   ]
  }
 ],
 "metadata": {
  "kernelspec": {
   "display_name": "Python 3 (ipykernel)",
   "language": "python",
   "name": "python3"
  },
  "language_info": {
   "codemirror_mode": {
    "name": "ipython",
    "version": 3
   },
   "file_extension": ".py",
   "mimetype": "text/x-python",
   "name": "python",
   "nbconvert_exporter": "python",
   "pygments_lexer": "ipython3",
   "version": "3.10.6"
  }
 },
 "nbformat": 4,
 "nbformat_minor": 4
}
